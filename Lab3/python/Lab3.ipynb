{
 "cells": [
  {
   "cell_type": "markdown",
   "metadata": {},
   "source": [
    "# Digital Signal Processing\n",
    "## Convolution and Correlation\n",
    "\n",
    "### MsCV - ViBOT - MAIA"
   ]
  },
  {
   "cell_type": "code",
   "execution_count": 50,
   "metadata": {
    "collapsed": false
   },
   "outputs": [
    {
     "name": "stdout",
     "output_type": "stream",
     "text": [
      "Pretty printing has been turned ON\n"
     ]
    }
   ],
   "source": [
    "%matplotlib inline\n",
    "%pprint off\n",
    "\n",
    "# To make some nice plot\n",
    "import matplotlib.pyplot as plt\n",
    "# To play with arrays\n",
    "import numpy as np\n",
    "from skimage import io\n",
    "from skimage import img_as_float\n",
    "from matplotlib import cm\n",
    "import math\n",
    "\n",
    "def dirac(n=0, N=20):\n",
    "    if n > N-1: raise ValueError('n is out of range')\n",
    "    s = np.zeros((N, ))\n",
    "    s[n] = 1\n",
    "    return s\n",
    "def H_FUNC(n=0, N=5):\n",
    "    if n > N-1: raise ValueError('n is out of range')\n",
    "    s = np.zeros((N, ))\n",
    "    for i in range(0, s.size):\n",
    "        s[i] = 1\n",
    "    return s"
   ]
  },
  {
   "cell_type": "markdown",
   "metadata": {
    "collapsed": true
   },
   "source": [
    "## Exercise 1- 1D Convolution\n",
    "\n",
    "**1.1** Defining a signal $x$ and an impulse response $h$ as parameters, write a program `conv_fn` to compute the convolution product $y=h*x$. Do not use the python or matlab function and just consider zero padding to solve the border problem.\n",
    "\n",
    "**1.2** Test your function, while using the following signal ($x[n] = \\{\\underline{1},2,3,4\\}$) and following filters, ($\\delta[k]$, $H[k]$, $e^{k}$, and $h = \\{-1, 1\\}$), respectively.\n",
    "\n",
    "**1.3** Consider the previous input signal, write it's extended version while considering `symmetry`, `periodic` and `constant values` padding and $h = H[k-5]$\n",
    "\n"
   ]
  },
  {
   "cell_type": "markdown",
   "metadata": {},
   "source": [
    "for symetric padding [-3.  1.  1.  1.  0. -1. -1. -1.  0.  1.  1.  1.]\n",
    "for periodic padding [ 3. -1. -1. -1.  3. -1. -1. -1.  3. -1. -1. -1.]\n",
    "for constant padding [ 3.  0.  0.  0.  0. -1. -1. -1.  0.  0.  0.  0.]"
   ]
  },
  {
   "cell_type": "code",
   "execution_count": 60,
   "metadata": {
    "collapsed": false
   },
   "outputs": [],
   "source": [
    "def conv_fn(x0,h) :\n",
    "    if(x0.size == 0 | h.size == 0):\n",
    "        raise Exception('Input cannot be empty')\n",
    "        \n",
    "    x = np.zeros(x0.size + 2*h.size)\n",
    "    for i in range(0, x0.size):\n",
    "        x[i + h.size] = x0[i]\n",
    "  \n",
    "    h_flip = h[::-1]\n",
    "   # print h_flip\n",
    "   # print x\n",
    "    con = np.zeros(x.size)\n",
    "    for i in range(0, x.size):\n",
    "        for j in range(0, h.size):\n",
    "            con[i] += x[i-j] * h[j]\n",
    "            \n",
    "    return con\n",
    "# "
   ]
  },
  {
   "cell_type": "code",
   "execution_count": 61,
   "metadata": {
    "collapsed": false
   },
   "outputs": [
    {
     "name": "stdout",
     "output_type": "stream",
     "text": [
      "================ 1 ==================\n",
      "[ 0.  0. -1. -1. -1. -1.  4.  0.]\n",
      "python built in res: \n",
      "[-1 -1 -1 -1  4]\n",
      "================ 2 ==================\n",
      "[ 0.  0.  0.  0.  0.  1.  2.  3.  4.  0.  0.  0.  0.  0.]\n",
      "python built in res: \n",
      "[ 1.  2.  3.  4.  0.  0.  0.  0.]\n",
      "================ 3 ==================\n",
      "[   0.            0.            0.            0.            0.            0.\n",
      "    1.            4.71828183   15.82561976   47.01849461  127.80951949\n",
      "  347.42229433  540.962916    663.63207744  593.65263641    0.        ]\n",
      "python built in res: \n",
      "[   1.            4.71828183   15.82561976   47.01849461  127.80951949\n",
      "  347.42229433  540.962916    663.63207744  593.65263641]\n",
      "================ 4 ==================\n",
      "[  0.   0.   0.   0.   0.   1.   3.   6.  10.  10.   9.   7.   4.   0.]\n",
      "python built in res: \n",
      "[  1.   3.   6.  10.  10.   9.   7.   4.]\n",
      "================ 5 ==================\n",
      "[  0.   0.   0.   0.   0.   4.   7.   9.  10.  11.   9.   9.  11.  14.  16.\n",
      "  16.  14.  10.   6.   3.   1.   0.]\n",
      "python built in res: \n",
      "[  4.   7.   9.  10.  11.   9.   9.  11.  14.  16.  16.  14.  10.   6.   3.\n",
      "   1.]\n"
     ]
    }
   ],
   "source": [
    "x = np.array([1, 2, 3, 4])\n",
    "h = np.array([-1,1])\n",
    "\n",
    "print '================ 1 =================='\n",
    "res = np.convolve(x,h)\n",
    "print conv_fn(x,h)\n",
    "print 'python built in res: '\n",
    "print res\n",
    "\n",
    "print '================ 2 =================='\n",
    "x2 = np.array([1, 2, 3, 4])\n",
    "h2 = dirac(0,5)\n",
    "\n",
    "res2 = np.convolve(x2,h2)\n",
    "print conv_fn(x2,h2)\n",
    "print 'python built in res: '\n",
    "print res2\n",
    "\n",
    "print '================ 3 =================='\n",
    "x3 = np.array([1, 2, 3, 4])\n",
    "h3 = np.zeros(6)\n",
    "for i in range(0,h3.size):\n",
    "    h3[i] = math.exp(i)\n",
    "    \n",
    "res3 = np.convolve(x3,h3)\n",
    "print conv_fn(x3,h3)\n",
    "print 'python built in res: '\n",
    "print res3\n",
    "\n",
    "print '================ 4 =================='\n",
    "x4 = np.array([1, 2, 3, 4])\n",
    "h4 = H_FUNC(0,5)\n",
    "\n",
    "res4 = np.convolve(x4,h4)\n",
    "print conv_fn(x4,h4)\n",
    "print 'python built in res: '\n",
    "print res4\n",
    "\n",
    "print '================ 5 =================='\n",
    "x5 = np.array([4,3,2,1,1, 2, 3, 4,4,3,2,1])\n",
    "h5 = H_FUNC(0,5)\n",
    "\n",
    "res5 = np.convolve(x5,h5)\n",
    "print conv_fn(x5,h5)\n",
    "print 'python built in res: '\n",
    "print res5"
   ]
  },
  {
   "cell_type": "markdown",
   "metadata": {
    "collapsed": false
   },
   "source": [
    "## Exercise 2- 2D Convolution\n",
    "\n",
    "**2.1** Define a 2D convolution function (Only consider zero-padding the image)\n",
    "\n",
    "**2.2** Using your function, smooth the `lena` image with the following Gaussian kernel:\n",
    "$$ K = \\frac{1.}{256}\\begin{bmatrix} 1 & 4 & 6 & 4 & 1 \\\\ 4 & 16 & 24 & 16 & 4 \\\\ 6 & 24 & 36 & 24 & 6 \\\\ 4 & 16 & 24 & 16 & 4 \\\\ 1 & 4 & 6 & 4 & 1 \\end{bmatrix}$$\n",
    "\n",
    "**2.3** Apply sobel filtering using convolution\n"
   ]
  },
  {
   "cell_type": "code",
   "execution_count": 10,
   "metadata": {
    "collapsed": false
   },
   "outputs": [],
   "source": [
    "def conv_fun_2D:\n",
    "    if(x0.size == 0 | h.size == 0):\n",
    "        raise Exception('Input cannot be empty')"
   ]
  },
  {
   "cell_type": "code",
   "execution_count": 12,
   "metadata": {
    "collapsed": false
   },
   "outputs": [],
   "source": []
  },
  {
   "cell_type": "code",
   "execution_count": null,
   "metadata": {
    "collapsed": false
   },
   "outputs": [],
   "source": []
  },
  {
   "cell_type": "markdown",
   "metadata": {
    "collapsed": true
   },
   "source": [
    "## Exercise 3 - Character recognition using cross-correlation\n",
    "\n",
    "**3.1** load `a.png` and `text.png` images and binarized them using [`threshold_otsu`](http://scikit-image.org/docs/dev/api/skimage.filters.html?highlight=filters#skimage.filters.threshold_otsu)\n",
    "\n",
    "**3.2** Use [`signal.correlate2d`](https://docs.scipy.org/doc/scipy-0.18.1/reference/generated/scipy.signal.correlate2d.html#scipy.signal.correlate2d) from `scipy` to correlate your binarized images.\n",
    "**Note, signal correspond to the bright pixels within and image (invert your masks)**\n",
    "\n",
    "**3.3** Find the first 10 characters recognized as `a`."
   ]
  },
  {
   "cell_type": "code",
   "execution_count": null,
   "metadata": {
    "collapsed": false
   },
   "outputs": [],
   "source": []
  },
  {
   "cell_type": "code",
   "execution_count": 21,
   "metadata": {
    "collapsed": false
   },
   "outputs": [],
   "source": []
  },
  {
   "cell_type": "code",
   "execution_count": null,
   "metadata": {
    "collapsed": false
   },
   "outputs": [],
   "source": []
  }
 ],
 "metadata": {
  "anaconda-cloud": {},
  "kernelspec": {
   "display_name": "Python 2",
   "language": "python",
   "name": "python2"
  },
  "language_info": {
   "codemirror_mode": {
    "name": "ipython",
    "version": 2
   },
   "file_extension": ".py",
   "mimetype": "text/x-python",
   "name": "python",
   "nbconvert_exporter": "python",
   "pygments_lexer": "ipython2",
   "version": "2.7.10"
  }
 },
 "nbformat": 4,
 "nbformat_minor": 1
}
